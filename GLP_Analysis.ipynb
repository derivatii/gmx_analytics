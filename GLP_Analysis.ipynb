{
 "cells": [
  {
   "cell_type": "code",
   "execution_count": 1,
   "id": "e032569e",
   "metadata": {},
   "outputs": [],
   "source": [
    "import pandas as pd\n",
    "import numpy as np\n",
    "import matplotlib.pyplot as plt\n",
    "from pycoingecko import CoinGeckoAPI\n",
    "cg = CoinGeckoAPI()\n",
    "from datetime import datetime\n",
    "import time\n",
    "from scipy import stats\n",
    "import seaborn as sns\n",
    "import statsmodels.api as sm\n",
    "from statsmodels import regression"
   ]
  },
  {
   "cell_type": "code",
   "execution_count": 32,
   "id": "e7f67825",
   "metadata": {},
   "outputs": [
    {
     "name": "stdout",
     "output_type": "stream",
     "text": [
      "0.0025\n"
     ]
    }
   ],
   "source": [
    "symbols = ['BTC','ETH', 'AVAX', 'USDC']\n",
    "# SET THE RISK FREE RATE  [ex: 1.25 = 1.25%, 10 = 10%]\n",
    "rfr = 0.25\n",
    "rfr /= 100\n",
    "# start_date = AVAX token launch\n",
    "start_date = datetime(2020, 9, 22, 0, 0)\n",
    "# end_date = today\n",
    "end_date = datetime.now()\n",
    "\n",
    " \n",
    "#convert to UNIX\n",
    "start_unix = time.mktime(start_date.timetuple())\n",
    "end_unix = time.mktime(end_date.timetuple())\n",
    "#print(start_unix)\n",
    "#print(end_unix)\n",
    "print(rfr)"
   ]
  },
  {
   "cell_type": "code",
   "execution_count": 3,
   "id": "188c0049",
   "metadata": {
    "scrolled": false
   },
   "outputs": [],
   "source": [
    "btc_prices = cg.get_coin_market_chart_range_by_id(id='bitcoin', vs_currency='USD', from_timestamp=start_unix, to_timestamp=end_unix)['prices']\n",
    "date_list = []\n",
    "for x in btc_prices:\n",
    "    #correct for millisecond representation\n",
    "    #convert timestamp to date format\n",
    "    date_list.append(datetime.fromtimestamp(x[0]/1000).strftime('%Y-%m-%d'))\n",
    "\n",
    "#separate dates from btc_prices\n",
    "btc_prices = np.array(btc_prices)\n",
    "btc_prices = np.delete(btc_prices, 0, 1)\n",
    "\n",
    "#btc_prices\n",
    "#date_list"
   ]
  },
  {
   "cell_type": "code",
   "execution_count": 4,
   "id": "add3db06",
   "metadata": {},
   "outputs": [],
   "source": [
    "eth_prices = cg.get_coin_market_chart_range_by_id(id='ethereum', vs_currency='USD', from_timestamp=start_unix, to_timestamp=end_unix)['prices']\n",
    "\n",
    "eth_prices = np.array(eth_prices)\n",
    "eth_prices = np.delete(eth_prices, 0, 1)\n",
    "\n",
    "#eth_prices"
   ]
  },
  {
   "cell_type": "code",
   "execution_count": 5,
   "id": "f6a590cc",
   "metadata": {
    "scrolled": false
   },
   "outputs": [],
   "source": [
    "avax_prices = cg.get_coin_market_chart_range_by_id(id='avalanche-2', vs_currency='USD', from_timestamp=start_unix, to_timestamp=end_unix)['prices']\n",
    "\n",
    "avax_prices = np.array(avax_prices)\n",
    "avax_prices = np.delete(avax_prices, 0, 1)\n",
    "\n",
    "#avax_prices"
   ]
  },
  {
   "cell_type": "code",
   "execution_count": 6,
   "id": "991ab1d1",
   "metadata": {},
   "outputs": [],
   "source": [
    "usdc_prices = cg.get_coin_market_chart_range_by_id(id='usd-coin', vs_currency='USD', from_timestamp=start_unix, to_timestamp=end_unix)['prices']\n",
    "\n",
    "usdc_prices = np.array(usdc_prices)\n",
    "usdc_prices = np.delete(usdc_prices, 0, 1)\n",
    "\n",
    "#usdc_prices"
   ]
  },
  {
   "cell_type": "code",
   "execution_count": 7,
   "id": "8e502058",
   "metadata": {
    "scrolled": true
   },
   "outputs": [],
   "source": [
    "#setup GLP index dataframe\n",
    "glp_df = pd.DataFrame(btc_prices, columns=['BTC_Price'], index=date_list)\n",
    "glp_df.insert(1, 'ETH_Price', eth_prices)\n",
    "glp_df.insert(2, 'AVAX_Price', avax_prices)\n",
    "glp_df.insert(3, 'USDC_Price', usdc_prices)\n",
    "\n",
    "#setup BTC baseline dataframe\n",
    "btc_df = pd.DataFrame(btc_prices, columns=['BTC_Price'], index=date_list)\n",
    "\n",
    "#glp_df"
   ]
  },
  {
   "cell_type": "code",
   "execution_count": 8,
   "id": "49e4ea8e",
   "metadata": {},
   "outputs": [],
   "source": [
    "#set index weightings, SUM(w)=1\n",
    "w = [0.15,0.2,0.2,0.45]"
   ]
  },
  {
   "cell_type": "code",
   "execution_count": 9,
   "id": "ebbb8c94",
   "metadata": {},
   "outputs": [
    {
     "data": {
      "text/html": [
       "<div>\n",
       "<style scoped>\n",
       "    .dataframe tbody tr th:only-of-type {\n",
       "        vertical-align: middle;\n",
       "    }\n",
       "\n",
       "    .dataframe tbody tr th {\n",
       "        vertical-align: top;\n",
       "    }\n",
       "\n",
       "    .dataframe thead th {\n",
       "        text-align: right;\n",
       "    }\n",
       "</style>\n",
       "<table border=\"1\" class=\"dataframe\">\n",
       "  <thead>\n",
       "    <tr style=\"text-align: right;\">\n",
       "      <th></th>\n",
       "      <th>BTC_Price</th>\n",
       "      <th>ETH_Price</th>\n",
       "      <th>AVAX_Price</th>\n",
       "      <th>USDC_Price</th>\n",
       "    </tr>\n",
       "  </thead>\n",
       "  <tbody>\n",
       "    <tr>\n",
       "      <th>2020-09-23</th>\n",
       "      <td>-0.028858</td>\n",
       "      <td>-0.066412</td>\n",
       "      <td>-0.339313</td>\n",
       "      <td>-0.002107</td>\n",
       "    </tr>\n",
       "    <tr>\n",
       "      <th>2020-09-24</th>\n",
       "      <td>0.049174</td>\n",
       "      <td>0.086408</td>\n",
       "      <td>0.310109</td>\n",
       "      <td>-0.000071</td>\n",
       "    </tr>\n",
       "    <tr>\n",
       "      <th>2020-09-25</th>\n",
       "      <td>-0.004152</td>\n",
       "      <td>0.007197</td>\n",
       "      <td>0.028222</td>\n",
       "      <td>-0.000443</td>\n",
       "    </tr>\n",
       "    <tr>\n",
       "      <th>2020-09-26</th>\n",
       "      <td>0.005729</td>\n",
       "      <td>0.008340</td>\n",
       "      <td>-0.037911</td>\n",
       "      <td>0.000247</td>\n",
       "    </tr>\n",
       "    <tr>\n",
       "      <th>2020-09-27</th>\n",
       "      <td>0.002058</td>\n",
       "      <td>0.007917</td>\n",
       "      <td>0.028356</td>\n",
       "      <td>0.001050</td>\n",
       "    </tr>\n",
       "    <tr>\n",
       "      <th>...</th>\n",
       "      <td>...</td>\n",
       "      <td>...</td>\n",
       "      <td>...</td>\n",
       "      <td>...</td>\n",
       "    </tr>\n",
       "    <tr>\n",
       "      <th>2022-01-31</th>\n",
       "      <td>0.015069</td>\n",
       "      <td>0.030281</td>\n",
       "      <td>0.028550</td>\n",
       "      <td>0.000381</td>\n",
       "    </tr>\n",
       "    <tr>\n",
       "      <th>2022-02-01</th>\n",
       "      <td>0.007266</td>\n",
       "      <td>0.040240</td>\n",
       "      <td>0.048869</td>\n",
       "      <td>-0.000443</td>\n",
       "    </tr>\n",
       "    <tr>\n",
       "      <th>2022-02-02</th>\n",
       "      <td>-0.047243</td>\n",
       "      <td>-0.038290</td>\n",
       "      <td>-0.074780</td>\n",
       "      <td>0.000239</td>\n",
       "    </tr>\n",
       "    <tr>\n",
       "      <th>2022-02-03</th>\n",
       "      <td>0.002713</td>\n",
       "      <td>-0.008573</td>\n",
       "      <td>0.001625</td>\n",
       "      <td>0.000929</td>\n",
       "    </tr>\n",
       "    <tr>\n",
       "      <th>2022-02-04</th>\n",
       "      <td>0.123243</td>\n",
       "      <td>0.122164</td>\n",
       "      <td>0.137051</td>\n",
       "      <td>0.009088</td>\n",
       "    </tr>\n",
       "  </tbody>\n",
       "</table>\n",
       "<p>500 rows × 4 columns</p>\n",
       "</div>"
      ],
      "text/plain": [
       "            BTC_Price  ETH_Price  AVAX_Price  USDC_Price\n",
       "2020-09-23  -0.028858  -0.066412   -0.339313   -0.002107\n",
       "2020-09-24   0.049174   0.086408    0.310109   -0.000071\n",
       "2020-09-25  -0.004152   0.007197    0.028222   -0.000443\n",
       "2020-09-26   0.005729   0.008340   -0.037911    0.000247\n",
       "2020-09-27   0.002058   0.007917    0.028356    0.001050\n",
       "...               ...        ...         ...         ...\n",
       "2022-01-31   0.015069   0.030281    0.028550    0.000381\n",
       "2022-02-01   0.007266   0.040240    0.048869   -0.000443\n",
       "2022-02-02  -0.047243  -0.038290   -0.074780    0.000239\n",
       "2022-02-03   0.002713  -0.008573    0.001625    0.000929\n",
       "2022-02-04   0.123243   0.122164    0.137051    0.009088\n",
       "\n",
       "[500 rows x 4 columns]"
      ]
     },
     "execution_count": 9,
     "metadata": {},
     "output_type": "execute_result"
    }
   ],
   "source": [
    "#calculate GLP components daily returns\n",
    "glp_component_returns = glp_df.pct_change()[1:]\n",
    "\n",
    "\n",
    "# calc portfolio returns of BTC for baseline\n",
    "btc_returns = btc_df.pct_change()[1:]\n",
    "\n",
    "glp_component_returns"
   ]
  },
  {
   "cell_type": "code",
   "execution_count": 10,
   "id": "22a892f8",
   "metadata": {},
   "outputs": [],
   "source": [
    "#calculate weighted returns\n",
    "glp_weighted_returns = (w * glp_component_returns)\n",
    "btc_returns = (1 * btc_returns)\n",
    "#print(glp_weighted_returns.head())"
   ]
  },
  {
   "cell_type": "code",
   "execution_count": 11,
   "id": "8f619846",
   "metadata": {},
   "outputs": [
    {
     "data": {
      "text/plain": [
       "2020-09-23   -0.086422\n",
       "2020-09-24    0.086648\n",
       "2020-09-25    0.006261\n",
       "2020-09-26   -0.004944\n",
       "2020-09-27    0.008036\n",
       "                ...   \n",
       "2022-01-31    0.014198\n",
       "2022-02-01    0.018713\n",
       "2022-02-02   -0.029593\n",
       "2022-02-03   -0.000565\n",
       "2022-02-04    0.074419\n",
       "Length: 500, dtype: float64"
      ]
     },
     "execution_count": 11,
     "metadata": {},
     "output_type": "execute_result"
    }
   ],
   "source": [
    "# calculate daily index returns by adding component returns across each row\n",
    "# axis =1 tells pandas we want to add the rows\n",
    "glp_index_returns = glp_weighted_returns.sum(axis=1)\n",
    "glp_index_returns"
   ]
  },
  {
   "cell_type": "code",
   "execution_count": 12,
   "id": "e09929fb",
   "metadata": {},
   "outputs": [
    {
     "data": {
      "image/png": "[encoded data removed]",
      "text/plain": [
       "<Figure size 432x288 with 1 Axes>"
      ]
     },
     "metadata": {
      "needs_background": "light"
     },
     "output_type": "display_data"
    }
   ],
   "source": [
    "# GLP return distribution\n",
    "fig = plt.figure()\n",
    "ax1 = fig.add_axes([0.1,0.1,0.8,0.8])\n",
    "ax1.hist(glp_index_returns, bins = 60)\n",
    "ax1.set_xlabel('Daily Return %')\n",
    "ax1.set_ylabel(\"Occurrences\")\n",
    "ax1.set_title(\"GLP Index - % Daily Return\")\n",
    "plt.show(); "
   ]
  },
  {
   "cell_type": "code",
   "execution_count": 13,
   "id": "06de8e11",
   "metadata": {},
   "outputs": [
    {
     "data": {
      "image/png": "[encoded data removed]",
      "text/plain": [
       "<Figure size 432x288 with 1 Axes>"
      ]
     },
     "metadata": {
      "needs_background": "light"
     },
     "output_type": "display_data"
    }
   ],
   "source": [
    "# BTC return distribution\n",
    "fig = plt.figure()\n",
    "ax1 = fig.add_axes([0.1,0.1,0.8,0.8])\n",
    "ax1.hist(btc_returns, bins = 60)\n",
    "ax1.set_xlabel('Daily Return %')\n",
    "ax1.set_ylabel(\"Occurrences\")\n",
    "ax1.set_title(\"BTC - % Daily Return\")\n",
    "plt.show(); "
   ]
  },
  {
   "cell_type": "code",
   "execution_count": 14,
   "id": "0e0b4d85",
   "metadata": {},
   "outputs": [],
   "source": [
    "# calc cumulative returns\n",
    "\n",
    "#GLP\n",
    "glp_cumulative_ret = (glp_index_returns + 1).cumprod()\n",
    "\n",
    "#BTC\n",
    "btc_cumulative_ret = (btc_returns + 1).cumprod()"
   ]
  },
  {
   "cell_type": "code",
   "execution_count": null,
   "id": "5c816d9e",
   "metadata": {},
   "outputs": [],
   "source": [
    "# GLP cumulative return chart\n",
    "fig = plt.figure()\n",
    "ax1 = fig.add_axes([0.1,0.1,0.8,0.8])\n",
    "ax1.plot(glp_cumulative_ret)\n",
    "ax1.set_xlabel('Date')\n",
    "ax1.set_ylabel(\"Cumulative Returns\")\n",
    "ax1.set_title(\"GLP - Portfolio Cumulative Returns\")\n",
    "plt.show();"
   ]
  },
  {
   "cell_type": "code",
   "execution_count": 36,
   "id": "1eb58b8e",
   "metadata": {
    "scrolled": true
   },
   "outputs": [
    {
     "data": {
      "image/png": "[encoded data removed]",
      "text/plain": [
       "<Figure size 432x288 with 1 Axes>"
      ]
     },
     "metadata": {
      "needs_background": "light"
     },
     "output_type": "display_data"
    }
   ],
   "source": [
    "# BTC cumulative return chart\n",
    "fig = plt.figure()\n",
    "ax1 = fig.add_axes([0.1,0.1,0.8,0.8])\n",
    "ax1.plot(btc_cumulative_ret)\n",
    "ax1.set_xlabel('Date')\n",
    "ax1.set_ylabel(\"Cumulative Returns\")\n",
    "ax1.set_title(\"BTC - Portfolio Cumulative Returns\")\n",
    "plt.show();"
   ]
  },
  {
   "cell_type": "code",
   "execution_count": 34,
   "id": "3164e6f9",
   "metadata": {
    "scrolled": true
   },
   "outputs": [
    {
     "data": {
      "image/png": "[encoded data removed]",
      "text/plain": [
       "<Figure size 432x288 with 1 Axes>"
      ]
     },
     "metadata": {
      "needs_background": "light"
     },
     "output_type": "display_data"
    }
   ],
   "source": [
    "#Generate dot plot model for GLP/BTC returns\n",
    "sns.regplot(x=btc_returns.values,\n",
    "y=glp_index_returns.values)\n",
    "plt.xlabel(\"BTC Returns\")\n",
    "plt.ylabel(\"GLP Returns\")\n",
    "plt.title(\"BTC Returns vs GLP Returns (Daily)\")\n",
    "plt.show()"
   ]
  },
  {
   "cell_type": "code",
   "execution_count": 18,
   "id": "b156b643",
   "metadata": {},
   "outputs": [
    {
     "name": "stdout",
     "output_type": "stream",
     "text": [
      "alpha: 0.0015374240864507458\n",
      "beta: 0.560334202663588\n",
      "correlation_coefficient: (0.7557912384612592, 1.2599447427374712e-93)\n"
     ]
    }
   ],
   "source": [
    "#calculate GLP/BTC beta using linear regression\n",
    "X = btc_returns.values\n",
    "Y = glp_index_returns.values\n",
    "def linreg(x,y):\n",
    "    \n",
    "    x = sm.add_constant(x)\n",
    "    model = regression.linear_model.OLS(y,x).fit()\n",
    "    \n",
    "    # We are removing the constant\n",
    "    x = x[:, 1]\n",
    "    return model.params[0], model.params[1]\n",
    "\n",
    "alpha, beta = linreg(X,Y)\n",
    "\n",
    "#have to adjust btc_returns data representation to match glp_index_returns\n",
    "l = []\n",
    "for item in X:\n",
    "    l.append(item[0])\n",
    "\n",
    "correlation_coefficient = stats.pearsonr(l, Y)\n",
    "print('alpha: ' + str(alpha))\n",
    "print ('beta: ' + str(beta))\n",
    "# correlation represented as (correlation, p-value)\n",
    "print ('correlation_coefficient: ' + str(correlation_coefficient))\n"
   ]
  },
  {
   "cell_type": "code",
   "execution_count": 33,
   "id": "b46d1aff",
   "metadata": {},
   "outputs": [
    {
     "name": "stdout",
     "output_type": "stream",
     "text": [
      "For period between: 2020-09-22 00:00:00 to 2022-02-05 01:07:32.065548\n",
      "\n",
      "BTC Average Daily Return: 0.003530009838512373\n",
      "GLP Average Daily Return: 0.0035154093347081975\n",
      "\n",
      "BTC Annual Return: 1.2831244071684922\n",
      "GLP Annual Return: 1.288453591057016\n",
      "\n",
      "BTC Daily Std. Dev: 0.03943071370299754\n",
      "GLP Daily Std. Dev: 0.029233439604576576\n",
      "\n",
      "BTC Sharpe Ratio: 32.612993027292255\n",
      "GLP Sharpe Ratio: 43.80683301351945\n",
      "\n"
     ]
    }
   ],
   "source": [
    "# compare average returns, volatility, and Sharpe ratio\n",
    "glp_mean_ret = glp_index_returns.values.mean()\n",
    "btc_mean_ret = btc_returns.values.mean()\n",
    "\n",
    "glp_annual_ret = 365 * glp_mean_ret\n",
    "btc_annual_ret = 365 * btc_mean_ret\n",
    "\n",
    "glp_std_dev = glp_index_returns.values.std()\n",
    "btc_std_dev = btc_returns.values.std()\n",
    "\n",
    "glp_sharpe_ratio = (glp_annual_ret - rfr) / glp_std_dev\n",
    "btc_sharpe_ratio = (btc_annual_ret - rfr) / btc_std_dev\n",
    "\n",
    "print('For period between: ' + str(start_date) + ' to ' + str(end_date))\n",
    "print()\n",
    "\n",
    "print('BTC Average Daily Return: ' + str(btc_mean_ret))\n",
    "print('GLP Average Daily Return: ' + str(glp_mean_ret))\n",
    "print()\n",
    "\n",
    "print('BTC Annual Return: ' + str(glp_annual_ret))\n",
    "print('GLP Annual Return: ' + str(btc_annual_ret))\n",
    "print()\n",
    "\n",
    "print('BTC Daily Std. Dev: ' + str(btc_std_dev))\n",
    "print('GLP Daily Std. Dev: ' + str(glp_std_dev))\n",
    "print()\n",
    "\n",
    "print('BTC Sharpe Ratio: ' + str(btc_sharpe_ratio))\n",
    "print('GLP Sharpe Ratio: ' + str(glp_sharpe_ratio))\n",
    "print()"
   ]
  },
  {
   "cell_type": "code",
   "execution_count": null,
   "id": "50f229de",
   "metadata": {},
   "outputs": [],
   "source": []
  }
 ],
 "metadata": {
  "kernelspec": {
   "display_name": "Python 3 (ipykernel)",
   "language": "python",
   "name": "python3"
  },
  "language_info": {
   "codemirror_mode": {
    "name": "ipython",
    "version": 3
   },
   "file_extension": ".py",
   "mimetype": "text/x-python",
   "name": "python",
   "nbconvert_exporter": "python",
   "pygments_lexer": "ipython3",
   "version": "3.9.7"
  }
 },
 "nbformat": 4,
 "nbformat_minor": 5
}
